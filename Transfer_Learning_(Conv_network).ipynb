{
  "nbformat": 4,
  "nbformat_minor": 0,
  "metadata": {
    "colab": {
      "provenance": []
    },
    "kernelspec": {
      "name": "python3",
      "display_name": "Python 3"
    },
    "language_info": {
      "name": "python"
    },
    "accelerator": "GPU",
    "gpuClass": "standard"
  },
  "cells": [
    {
      "cell_type": "markdown",
      "source": [
        "## Loading and Importing VGG model for transfer learning"
      ],
      "metadata": {
        "id": "MnaS9wllwnAR"
      }
    },
    {
      "cell_type": "code",
      "execution_count": null,
      "metadata": {
        "id": "mbg7vAlzwgHc"
      },
      "outputs": [],
      "source": [
        "import tensorflow as tf\n",
        "from tensorflow.keras.layers import Flatten, Dense\n",
        "from tensorflow import keras\n",
        "from tensorflow.keras import layers\n",
        "from keras import Sequential"
      ]
    },
    {
      "cell_type": "markdown",
      "source": [
        "## Preprocessing and loading the data"
      ],
      "metadata": {
        "id": "URUuEcm34WF6"
      }
    },
    {
      "cell_type": "code",
      "source": [
        "train_batch = tf.keras.utils.image_dataset_from_directory(\n",
        "    \"\", labels='inferred', label_mode='binary', image_size=(299, 299), color_mode='rgb', interpolation='lanczos3'\n",
        ")\n",
        "val_batch = tf.keras.utils.image_dataset_from_directory(\n",
        "    \"\", labels='inferred', label_mode='binary', image_size=(299, 299), color_mode='rgb', interpolation='lanczos3'\n",
        " )"
      ],
      "metadata": {
        "id": "UByKQYGW4YNv"
      },
      "execution_count": null,
      "outputs": []
    },
    {
      "cell_type": "markdown",
      "source": [
        "## Loading Xception and recreating it"
      ],
      "metadata": {
        "id": "pbLcJAr-ynhU"
      }
    },
    {
      "cell_type": "code",
      "source": [
        "from google.colab import drive\n",
        "drive.mount('/content/drive')"
      ],
      "metadata": {
        "id": "lOb0FGDxUxUi"
      },
      "execution_count": null,
      "outputs": []
    },
    {
      "cell_type": "code",
      "source": [
        "sleeping_net = Sequential()\n",
        "\n",
        "pretrained_model = tf.keras.applications.Xception(\n",
        "    include_top=False,\n",
        "    input_shape=(299, 299, 3),\n",
        "    pooling='avg',\n",
        "    classes=2,\n",
        "    weights='imagenet',\n",
        "\n",
        ")\n",
        "\n",
        "for layer in pretrained_model.layers:\n",
        "  layer.trainable=False\n",
        "\n",
        "sleeping_net.add(pretrained_model)\n",
        "sleeping_net.add(Flatten())\n",
        "sleeping_net.add(Dense(512, activation='relu'))\n",
        "sleeping_net.add(Dense(1, activation='sigmoid'))\n"
      ],
      "metadata": {
        "id": "Uznu_PTPywUV"
      },
      "execution_count": null,
      "outputs": []
    },
    {
      "cell_type": "markdown",
      "source": [
        "Model Summary"
      ],
      "metadata": {
        "id": "YeQJNvaf1__2"
      }
    },
    {
      "cell_type": "code",
      "source": [
        "sleeping_net.summary()"
      ],
      "metadata": {
        "id": "5eDpm9ps2Bvy"
      },
      "execution_count": null,
      "outputs": []
    },
    {
      "cell_type": "markdown",
      "source": [
        "### Compiling the model"
      ],
      "metadata": {
        "id": "ArPZRrXj2OWT"
      }
    },
    {
      "cell_type": "code",
      "source": [
        "model_compile = sleeping_net.compile(\n",
        "    optimizer=tf.keras.optimizers.Adam(0.0001),\n",
        "    loss=tf.keras.losses.BinaryCrossentropy(),\n",
        "    metrics=['accuracy'],\n",
        ")"
      ],
      "metadata": {
        "id": "9dHOOXQN2RPd"
      },
      "execution_count": null,
      "outputs": []
    },
    {
      "cell_type": "markdown",
      "source": [
        "### Callback functions"
      ],
      "metadata": {
        "id": "Xy2pYDTJYvhQ"
      }
    },
    {
      "cell_type": "code",
      "source": [
        "callbacks = [\n",
        "    tf.keras.callbacks.ReduceLROnPlateau(monitor='val_loss', patience=2, factor=0.2),\n",
        "    tf.keras.callbacks.ModelCheckpoint(filepath='SleepingNet.h5', save_best_only=True),\n",
        "    tf.keras.callbacks.EarlyStopping(monitor='val_loss', patience=8),\n",
        "]"
      ],
      "metadata": {
        "id": "Ac6EhbbKZ0hU"
      },
      "execution_count": null,
      "outputs": []
    },
    {
      "cell_type": "markdown",
      "source": [
        "## Fitting the model"
      ],
      "metadata": {
        "id": "DalvU7Hc4CZI"
      }
    },
    {
      "cell_type": "code",
      "source": [
        "history = sleeping_net.fit(\n",
        "    train_batch,\n",
        "    batch_size=64,\n",
        "    epochs=20,\n",
        "    verbose=2,\n",
        "    callbacks=callbacks,\n",
        "    validation_data=val_batch,\n",
        ")"
      ],
      "metadata": {
        "id": "jGfysxFG4Epc"
      },
      "execution_count": null,
      "outputs": []
    }
  ]
}